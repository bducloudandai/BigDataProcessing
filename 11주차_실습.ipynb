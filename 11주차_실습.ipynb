{
  "nbformat": 4,
  "nbformat_minor": 0,
  "metadata": {
    "colab": {
      "private_outputs": true,
      "provenance": []
    },
    "kernelspec": {
      "name": "python3",
      "display_name": "Python 3"
    },
    "language_info": {
      "name": "python"
    }
  },
  "cells": [
    {
      "cell_type": "markdown",
      "source": [
        "## [13주] 항목에 따른 자동차 연비 예측"
      ],
      "metadata": {
        "id": "uXb_1aHpTife"
      }
    },
    {
      "cell_type": "markdown",
      "source": [
        "### [001] 데이터 수집"
      ],
      "metadata": {
        "id": "5g9zHmERTqaE"
      }
    },
    {
      "cell_type": "code",
      "source": [
        "import numpy as np\n",
        "import pandas as pd\n",
        "\n",
        "data_df = pd.read_csv('auto-mpg.csv', header=0, engine='python')"
      ],
      "metadata": {
        "id": "rwDqRGB8U2BF"
      },
      "execution_count": null,
      "outputs": []
    },
    {
      "cell_type": "markdown",
      "source": [
        "### [002] 데이터 준비 및 탐색"
      ],
      "metadata": {
        "id": "4U2xwS7mUQV8"
      }
    },
    {
      "cell_type": "code",
      "source": [
        "print(' 데이터셋 크기 : ', data_df.shape)\n",
        "\n",
        "data_df.head()"
      ],
      "metadata": {
        "id": "p4RxzCGJU4vc"
      },
      "execution_count": null,
      "outputs": []
    },
    {
      "cell_type": "markdown",
      "source": [
        "#### 1.분석하지 않은 변수 제외하기"
      ],
      "metadata": {
        "id": "VN34oevaU-AU"
      }
    },
    {
      "cell_type": "code",
      "source": [
        "data_df = data_df.drop(['car_name', 'origin', 'horsepower'], axis=1, inplace=False)"
      ],
      "metadata": {
        "id": "UJAgRqM-VAjc"
      },
      "execution_count": null,
      "outputs": []
    },
    {
      "cell_type": "code",
      "source": [
        "print(' 데이터세트 크기 : ', data_df.shape)\n",
        "\n",
        "data_df.head()"
      ],
      "metadata": {
        "id": "N97MsxOsVCz8"
      },
      "execution_count": null,
      "outputs": []
    },
    {
      "cell_type": "code",
      "source": [
        "data_df.info()"
      ],
      "metadata": {
        "id": "y2OoXscyVF1n"
      },
      "execution_count": null,
      "outputs": []
    },
    {
      "cell_type": "markdown",
      "source": [
        "### [003] 분석 모델 구축"
      ],
      "metadata": {
        "id": "nZ1TPJaqUSo1"
      }
    },
    {
      "cell_type": "code",
      "source": [
        "from sklearn.linear_model import LinearRegression\n",
        "from sklearn.model_selection import train_test_split\n",
        "from sklearn.metrics import mean_squared_error, r2_score"
      ],
      "metadata": {
        "id": "ukIQMUOaVHsF"
      },
      "execution_count": null,
      "outputs": []
    },
    {
      "cell_type": "code",
      "source": [
        "# X, Y 분할하기\n",
        "\n",
        "Y = data_df['mpg']\n",
        "X = data_df.drop(['mpg'], axis=1, inplace=False)"
      ],
      "metadata": {
        "id": "CAjlpZLSVJrc"
      },
      "execution_count": null,
      "outputs": []
    },
    {
      "cell_type": "code",
      "source": [
        "# 훈련용 데이터와 평가용 데이터 분할하기\n",
        "X_train, X_test, Y_train, Y_test = train_test_split(X, Y, test_size=0.3, random_state=0)"
      ],
      "metadata": {
        "id": "N4XXJV8IVLcE"
      },
      "execution_count": null,
      "outputs": []
    },
    {
      "cell_type": "code",
      "source": [
        "# 선형회귀분석 : 모델 생성\n",
        "lr = LinearRegression()"
      ],
      "metadata": {
        "id": "wcmFQvAIVOpF"
      },
      "execution_count": null,
      "outputs": []
    },
    {
      "cell_type": "code",
      "source": [
        "# 선형회귀분석 : 모델 훈련\n",
        "lr.fit(X_train, Y_train)"
      ],
      "metadata": {
        "id": "f_vahWcVVQBc"
      },
      "execution_count": null,
      "outputs": []
    },
    {
      "cell_type": "code",
      "source": [
        "# 선형회귀분석 : 평가 데이터에 대한 예측 수행 -> 예측 결과 Y_predict 구하기\n",
        "Y_predict = lr.predict(X_test)\n",
        "print(Y_predict)"
      ],
      "metadata": {
        "id": "rCYCEW8HVSU8"
      },
      "execution_count": null,
      "outputs": []
    },
    {
      "cell_type": "markdown",
      "source": [
        "### [004] 결과 시각화"
      ],
      "metadata": {
        "id": "dfliioI3UZvl"
      }
    },
    {
      "cell_type": "code",
      "source": [
        "mse = mean_squared_error(Y_test, Y_predict)\n",
        "rmse = np.sqrt(mse)\n",
        "\n",
        "print('MSE : {0:.3f}, RMSE : {1:.3f}'.format(mse, rmse))\n",
        "print('R^2(Variance score) : {0:.3f}'.format(r2_score(Y_test, Y_predict)))"
      ],
      "metadata": {
        "id": "1uo5YHDpVT_k"
      },
      "execution_count": null,
      "outputs": []
    },
    {
      "cell_type": "code",
      "source": [
        "print('Y 절편 값: ',  np.round(lr.intercept_, 2))\n",
        "print('회귀 계수 값: ', np.round(lr.coef_, 2))"
      ],
      "metadata": {
        "id": "C-RuvwiHVWK0"
      },
      "execution_count": null,
      "outputs": []
    },
    {
      "cell_type": "code",
      "source": [
        "coef = pd.Series(data=np.round(lr.coef_, 2), index=X.columns)\n",
        "coef.sort_values(ascending=False)"
      ],
      "metadata": {
        "id": "32idoagGVYKE"
      },
      "execution_count": null,
      "outputs": []
    },
    {
      "cell_type": "markdown",
      "source": [
        "#### 1.회귀분석 결과를 산점도+선형 회귀 그래프로 시각화하기"
      ],
      "metadata": {
        "id": "N0vANdvCVanE"
      }
    },
    {
      "cell_type": "code",
      "source": [
        "import matplotlib.pyplot as plt\n",
        "import seaborn as sns"
      ],
      "metadata": {
        "id": "6yUfWevVVfCs"
      },
      "execution_count": null,
      "outputs": []
    },
    {
      "cell_type": "code",
      "source": [
        "fig, axs = plt.subplots(figsize=(16, 16), ncols=3, nrows=2)\n",
        "\n",
        "x_features = ['model_year', 'acceleration', 'displacement', 'weight', 'cylinders']\n",
        "plot_color = ['r', 'b', 'y', 'g', 'r']\n",
        "\n",
        "for i, feature in enumerate(x_features):\n",
        "      row = int(i/3)\n",
        "      col = i%3\n",
        "      sns.regplot(x=feature, y='mpg', data=data_df, ax=axs[row][col], color=plot_color[i])"
      ],
      "metadata": {
        "id": "YcLnHFx4Vf_F"
      },
      "execution_count": null,
      "outputs": []
    },
    {
      "cell_type": "markdown",
      "source": [
        "#### 2.연비 예측하기"
      ],
      "metadata": {
        "id": "rLlnAF7HVkLt"
      }
    },
    {
      "cell_type": "code",
      "source": [
        "print(\"연비를 예측하고 싶은 차의 정보를 입력해주세요.\")\n",
        "\n",
        "cylinders_1 = int(input(\"cylinders : \"))\n",
        "displacement_1 = int(input(\"displacement : \"))\n",
        "weight_1 = int(input(\"weight : \"))\n",
        "acceleration_1 = int(input(\"acceleration : \"))\n",
        "model_year_1 = int(input(\"model_year : \"))"
      ],
      "metadata": {
        "id": "JeQomAuLVm2N"
      },
      "execution_count": null,
      "outputs": []
    },
    {
      "cell_type": "code",
      "source": [
        "mpg_predict = lr.predict([[cylinders_1, displacement_1, weight_1, acceleration_1 , model_year_1]])"
      ],
      "metadata": {
        "id": "TYsyqHsYVsbN"
      },
      "execution_count": null,
      "outputs": []
    },
    {
      "cell_type": "code",
      "source": [
        "print(\"이 자동차의 예상 연비(mpg)는 %.2f 입니다.\" %mpg_predict)"
      ],
      "metadata": {
        "id": "wkqS6IfLVwIs"
      },
      "execution_count": null,
      "outputs": []
    },
    {
      "cell_type": "code",
      "source": [
        "a = mpg_predict[0]*0.425\n",
        "\n",
        "print(\"이 자동차의 예상 연비(Km/L)는 %.2f 입니다.\" %a)"
      ],
      "metadata": {
        "id": "NnFmmYzgu2NG"
      },
      "execution_count": null,
      "outputs": []
    }
  ]
}